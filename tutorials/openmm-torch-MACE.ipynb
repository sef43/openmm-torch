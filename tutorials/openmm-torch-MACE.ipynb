{
  "cells": [
    {
      "attachments": {},
      "cell_type": "markdown",
      "metadata": {
        "id": "oRr7FSA13_Wv"
      },
      "source": [
        "# Tutorial: a simple simulation of alanine dipeptide with MACE using OpenMM-Torch\n",
        "\n",
        "You can run this tutorial directly in your browser: [![Open On Colab](https://colab.research.google.com/assets/colab-badge.svg)](https://colab.research.google.com/github/sef43/openmm-torch/blob/mace_tutorial/tutorials/openmm-torch-MACE.ipynb)\n",
        "\n",
        "**Note this notebook should work in both the default and GPU accelerated Colab runtimes**\n",
        "\n",
        "Covered topics:\n",
        " * Installation of the software with [Conda](https://docs.conda.io/)\n",
        " * Creation of an NNP (neural network potential) with [MACE](https://github.com/ACEsuit/mace)\n",
        " * Integration of [OpenMM](https://openmm.org/) and [PyTorch](https://pytorch.org/) and with [OpenMM-Torch](https://github.com/openmm/openmm-torch)\n",
        " * Setup and execution of a simulation"
      ]
    },
    {
      "cell_type": "markdown",
      "metadata": {
        "id": "BKG1ZNq94f-Z"
      },
      "source": [
        "## Install Conda\n",
        "\n",
        "[Conda](https://docs.conda.io/) is a package and environment manager. On Google Colab, Conda is installed with [conda-colab](https://github.com/jaimergp/condacolab). On your computer, you should follow these [installation instructions](https://docs.conda.io/projects/conda/en/latest/user-guide/install/index.html).\n",
        "\n",
        "⚠️ Do not use conda-colab on your computer!"
      ]
    },
    {
      "cell_type": "code",
      "execution_count": null,
      "metadata": {
        "colab": {
          "base_uri": "https://localhost:8080/"
        },
        "id": "EcB2lc1s3ZXG",
        "outputId": "1ce0bad8-a050-48d5-c18a-9e49fbeb11c2"
      },
      "outputs": [],
      "source": [
        "!pip install -q condacolab\n",
        "import condacolab\n",
        "condacolab.install_mambaforge()"
      ]
    },
    {
      "cell_type": "markdown",
      "metadata": {
        "id": "tWlPu4KF5DFZ"
      },
      "source": [
        "## Install software\n",
        "\n",
        "The [conda-forge](https://conda-forge.org/) channel is used for software.\n",
        "\n",
        "⚠️ The installation might take up to 10 min!"
      ]
    },
    {
      "cell_type": "code",
      "execution_count": null,
      "metadata": {
        "id": "-qFE_cKF5958"
      },
      "outputs": [],
      "source": [
        "#https://github.com/openmm/openmm-torch/issues/88\n",
        "%env CONDA_OVERRIDE_CUDA=11.2 \n",
        "!mamba install -c conda-forge -c \"conda-forge/label/openmm-torch_rc\" \\\n",
        "               -c \"conda-forge/label/openmm_rc\" \\\n",
        "               openmm=8 openmm-torch=1 openmmtools pytorch=1.12 \\\n",
        "               &> /dev/null # Comment this line to see a log\n",
        "\n",
        "# install MACE\n",
        "!pip install -q git+https://github.com/sef43/mace@torchscript_merge \n",
        "\n",
        "# get pretrained model\n",
        "!wget -q https://github.com/jharrymoore/mace-openmm/raw/main/tests/example_data/MACE_SPICE_larger.model\n"
      ]
    },
    {
      "cell_type": "markdown",
      "metadata": {
        "id": "ZQwKdquUF5wo"
      },
      "source": [
        "## Prepare a simulation system\n",
        "\n",
        "For simplicity, the alanine dipeptide system from [OpenMM-Tools](https://openmmtools.readthedocs.io/en/latest/) is used."
      ]
    },
    {
      "cell_type": "code",
      "execution_count": 1,
      "metadata": {
        "colab": {
          "base_uri": "https://localhost:8080/"
        },
        "id": "zNng_d4mGKve",
        "outputId": "218e0775-766b-4597-9d48-96e3d65df374"
      },
      "outputs": [],
      "source": [
        "import openmmtools\n",
        "\n",
        "# Get the system of alanine dipeptide\n",
        "ala2 = openmmtools.testsystems.AlanineDipeptideVacuum(constraints=None)\n",
        "\n",
        "# Remove MM forces\n",
        "while ala2.system.getNumForces() > 0:\n",
        "  ala2.system.removeForce(0)\n",
        "\n",
        "# The system should not contain any additional force and constrains\n",
        "assert ala2.system.getNumConstraints() == 0\n",
        "assert ala2.system.getNumForces() == 0\n",
        "\n",
        "# Get the list of atomic numbers\n",
        "atomic_numbers = [atom.element.atomic_number for atom in ala2.topology.atoms()]\n",
        "\n",
        "# Get positions\n",
        "positions = ala2.positions"
      ]
    },
    {
      "attachments": {},
      "cell_type": "markdown",
      "metadata": {
        "id": "BWlQTEF1IS4S"
      },
      "source": [
        "## Create a NNP\n",
        "\n",
        "A NNP (neural network potential) is created with MACE"
      ]
    },
    {
      "cell_type": "code",
      "execution_count": 2,
      "metadata": {
        "colab": {
          "base_uri": "https://localhost:8080/"
        },
        "id": "ofemZo6sIbLU",
        "outputId": "4181fcb6-db72-47e7-edb5-2a4bb0252de7"
      },
      "outputs": [],
      "source": [
        "import torch\n",
        "from mace.calculators import MACE_openmm_NNP\n",
        "\n",
        "device = \"cuda\" if torch.cuda.is_available() else \"cpu\"\n",
        "\n",
        "model_path=\"MACE_SPICE_larger.model\"\n",
        "\n",
        "nnp = MACE_openmm_NNP(model_path, torch.tensor(positions.tolist()).to(device), atomic_numbers, device=device)"
      ]
    },
    {
      "cell_type": "markdown",
      "metadata": {
        "id": "iOTneQ1_I9aB"
      },
      "source": [
        "At this point, the potential energy of the system can be computed with the NNP:"
      ]
    },
    {
      "cell_type": "code",
      "execution_count": 3,
      "metadata": {
        "colab": {
          "base_uri": "https://localhost:8080/"
        },
        "id": "D42I_L9r-Krj",
        "outputId": "c1738d48-71e2-40ea-9965-d9dbd2147406"
      },
      "outputs": [
        {
          "name": "stdout",
          "output_type": "stream",
          "text": [
            "-1302713.6806943913\n"
          ]
        }
      ],
      "source": [
        "# Comute the potential energy\n",
        "pos = torch.tensor(ala2.positions.tolist()).to(device)\n",
        "energy_1 = float(nnp(pos))\n",
        "print(energy_1)"
      ]
    },
    {
      "cell_type": "markdown",
      "metadata": {
        "id": "zOV53fN2sB3C"
      },
      "source": [
        "## Add the NNP to the system\n",
        "\n",
        "In order to use the NNP in a simulation, it has to loaded with [OpenMM-Torch](https://github.com/openmm/openmm-torch) and added to the system."
      ]
    },
    {
      "cell_type": "code",
      "execution_count": 4,
      "metadata": {
        "id": "Snj9UrPbsIS5"
      },
      "outputs": [
        {
          "name": "stderr",
          "output_type": "stream",
          "text": [
            "Warning: importing 'simtk.openmm' is deprecated.  Import 'openmm' instead.\n"
          ]
        }
      ],
      "source": [
        "from openmmtorch import TorchForce\n",
        "\n",
        "# Save the NNP to a file and load it with OpenMM-Torch\n",
        "torch.jit.script(nnp).save('model.pt')\n",
        "force = TorchForce('model.pt')\n",
        "\n",
        "# Add the NNP to the system\n",
        "ala2.system.addForce(force)\n",
        "assert ala2.system.getNumForces() == 1"
      ]
    },
    {
      "cell_type": "markdown",
      "metadata": {
        "id": "jLtSbKg6BB1n"
      },
      "source": [
        "## Setup a simulation\n",
        "\n",
        "Setup a simulation with [OpenMM](https://openmm.org/)."
      ]
    },
    {
      "cell_type": "code",
      "execution_count": 5,
      "metadata": {
        "id": "6l2vPxPZ3u56"
      },
      "outputs": [],
      "source": [
        "import sys\n",
        "from openmm import LangevinMiddleIntegrator\n",
        "from openmm.app import Simulation, StateDataReporter, PDBReporter\n",
        "from openmm.unit import kelvin, picosecond, femtosecond\n",
        "\n",
        "# Create an integrator with a time step of 1 fs\n",
        "temperature = 298.15 * kelvin\n",
        "frictionCoeff = 1 / picosecond\n",
        "timeStep = 1 * femtosecond\n",
        "integrator = LangevinMiddleIntegrator(temperature, frictionCoeff, timeStep)\n",
        "\n",
        "# Create a simulation and set the initial positions and velocities\n",
        "simulation = Simulation(ala2.topology, ala2.system, integrator)\n",
        "simulation.context.setPositions(ala2.positions)\n",
        "\n",
        "# Configure a reporter to print to the console every 0.1 ps (100 steps)\n",
        "reporter = StateDataReporter(file=sys.stdout, reportInterval=100, step=True, time=True, potentialEnergy=True, temperature=True, speed=True)\n",
        "simulation.reporters.append(reporter)\n",
        "simulation.reporters.append(PDBReporter(\"output.pdb\", 100))"
      ]
    },
    {
      "cell_type": "markdown",
      "metadata": {
        "id": "4ProIzIWL4Co"
      },
      "source": [
        "At this point, the potential energy of the system can be computed again:"
      ]
    },
    {
      "cell_type": "code",
      "execution_count": 6,
      "metadata": {
        "colab": {
          "base_uri": "https://localhost:8080/"
        },
        "id": "JN9v2rz3KbTz",
        "outputId": "15367844-1caa-40c1-bb5b-f94f7b51eb1b"
      },
      "outputs": [
        {
          "name": "stdout",
          "output_type": "stream",
          "text": [
            "-1302713.6806207714\n"
          ]
        }
      ],
      "source": [
        "from openmm.unit import kilojoule_per_mole\n",
        "\n",
        "# Comute the potential energy\n",
        "state = simulation.context.getState(getEnergy=True)\n",
        "energy_2 = state.getPotentialEnergy().value_in_unit(kilojoule_per_mole)\n",
        "print(energy_2)\n",
        "\n",
        "# Check if the energy is correct\n",
        "assert torch.isclose(torch.tensor(energy_1), torch.tensor(energy_2))"
      ]
    },
    {
      "cell_type": "markdown",
      "metadata": {
        "id": "3DwdnGQ8NT2X"
      },
      "source": [
        "## Run the simulation\n",
        "\n",
        "Run your first NNP simulation.\n",
        "\n",
        "⚠️ The simulations are not deterministic! Each time the log will be a bit different."
      ]
    },
    {
      "cell_type": "code",
      "execution_count": 7,
      "metadata": {
        "colab": {
          "base_uri": "https://localhost:8080/"
        },
        "id": "da0v6qJHBtUb",
        "outputId": "e477991e-93b0-4e72-de4f-d7a8b05052de"
      },
      "outputs": [
        {
          "name": "stdout",
          "output_type": "stream",
          "text": [
            "#\"Step\",\"Time (ps)\",\"Potential Energy (kJ/mole)\",\"Temperature (K)\",\"Speed (ns/day)\"\n",
            "100,0.10000000000000007,-1302716.8853482394,51.81304603859144,0\n",
            "200,0.20000000000000015,-1302714.8697117907,83.10314429857384,0.792\n",
            "300,0.3000000000000002,-1302701.7569842234,107.27109340114595,0.782\n",
            "400,0.4000000000000003,-1302694.1482679592,126.0759773132453,0.787\n",
            "500,0.5000000000000003,-1302695.979146789,131.49732483563452,0.797\n",
            "600,0.6000000000000004,-1302693.5240542528,140.2359797902038,0.789\n",
            "700,0.7000000000000005,-1302692.2446522296,194.124386064068,0.785\n",
            "800,0.8000000000000006,-1302678.9072102618,212.21471257005481,0.791\n",
            "900,0.9000000000000007,-1302689.6729080956,270.5078155949723,0.796\n",
            "1000,1.0000000000000007,-1302665.8971019273,196.48169477464165,0.799\n"
          ]
        }
      ],
      "source": [
        "# Run the simulations for 1 ps (1000 steps)\n",
        "simulation.step(1000)"
      ]
    }
  ],
  "metadata": {
    "colab": {
      "collapsed_sections": [
        "BKG1ZNq94f-Z"
      ],
      "name": "openmm-torch-MACE.ipynb",
      "provenance": []
    },
    "kernelspec": {
      "display_name": "mace_openmm_dev",
      "language": "python",
      "name": "python3"
    },
    "language_info": {
      "codemirror_mode": {
        "name": "ipython",
        "version": 3
      },
      "file_extension": ".py",
      "mimetype": "text/x-python",
      "name": "python",
      "nbconvert_exporter": "python",
      "pygments_lexer": "ipython3",
      "version": "3.10.8"
    },
    "vscode": {
      "interpreter": {
        "hash": "2b1e1932d7e83ff0684e41d3e9917227391fa6242aac66de719b04e935e6e9a3"
      }
    }
  },
  "nbformat": 4,
  "nbformat_minor": 0
}
